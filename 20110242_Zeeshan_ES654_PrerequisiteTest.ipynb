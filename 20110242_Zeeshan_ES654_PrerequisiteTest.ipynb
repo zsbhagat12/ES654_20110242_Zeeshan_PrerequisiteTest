{
  "cells": [
    {
      "cell_type": "code",
      "execution_count": 18,
      "id": "a0309658",
      "metadata": {
        "id": "a0309658"
      },
      "outputs": [],
      "source": [
        "import numpy as np\n",
        "from matplotlib import pyplot as plt\n",
        "import pandas as pd\n",
        "import random,time"
      ]
    },
    {
      "cell_type": "markdown",
      "id": "cae14511",
      "metadata": {
        "id": "cae14511"
      },
      "source": [
        "Ans 1) As per the question, the two matrices under consideration are of dimensions (n,k) (say, matrix A) and (k,m) (say, matrix B). So, the final product matrix C would be of dimension (n,m). For each element of C, we would need k multiplications and k-1 additions to multiply and add k corresponding elements. Since total elements in C is nm, which implies that multiplications = nmk and additions = nm(k-1). "
      ]
    },
    {
      "cell_type": "code",
      "execution_count": 19,
      "id": "ec0aaf24",
      "metadata": {
        "colab": {
          "base_uri": "https://localhost:8080/"
        },
        "id": "ec0aaf24",
        "outputId": "d273175b-d4a6-4a57-d710-173dd6bf3642"
      },
      "outputs": [
        {
          "output_type": "stream",
          "name": "stdout",
          "text": [
            "Using lists : 0.18472065925598144s ± 0.006572442795460448\n"
          ]
        }
      ],
      "source": [
        "#Ans 2\n",
        "\n",
        "n = 100\n",
        "k = 50\n",
        "m = 100\n",
        "\n",
        "# Random initialization\n",
        "A = [[random.randint(50 , 100) for i in range(k)] for j in range(n)]\n",
        "B = [[random.randint(50 , 100) for i in range(m)] for j in range(k)]\n",
        "C = [[0 for i in range(m)] for j in range(n)]\n",
        "\n",
        "# Array of Time taken for each iteration\n",
        "t = []\n",
        "for _ in range(50):\n",
        "    initial_time = time.time()\n",
        "    for i in range(n):\n",
        "        for j in range(m):\n",
        "            for l in range(k):\n",
        "                C[i][j]+=A[i][l]*B[l][j]\n",
        "    final_time = time.time()\n",
        "    t.append(final_time - initial_time)\n",
        "\n",
        "t = np.array(t)\n",
        "\n",
        "print(f\"Using lists : {np.mean(t)}s ± {np.std(t)}\")"
      ]
    },
    {
      "cell_type": "code",
      "execution_count": 20,
      "id": "3fae680f",
      "metadata": {
        "colab": {
          "base_uri": "https://localhost:8080/"
        },
        "id": "3fae680f",
        "outputId": "b76463c3-405e-48cf-d3e2-6c6b8fb47dd0"
      },
      "outputs": [
        {
          "output_type": "stream",
          "name": "stdout",
          "text": [
            "Using Numpy arrays and matmul : 0.0004745578765869141s ± 6.986865568553727e-05\n"
          ]
        }
      ],
      "source": [
        "A = np.array(A)\n",
        "B = np.array(B)\n",
        "C = np.array(C)\n",
        "\n",
        "t = []\n",
        "for _ in range(50):\n",
        "    initial_time = time.time()\n",
        "    C = np.matmul(A, B)\n",
        "    final_time = time.time()\n",
        "    t.append(final_time - initial_time)\n",
        "\n",
        "t = np.array(t)\n",
        "\n",
        "print(f\"Using Numpy arrays and matmul : {np.mean(t)}s ± {np.std(t)}\")"
      ]
    },
    {
      "cell_type": "code",
      "execution_count": 21,
      "id": "938bc9da",
      "metadata": {
        "colab": {
          "base_uri": "https://localhost:8080/"
        },
        "id": "938bc9da",
        "outputId": "4c72b85f-328a-4e47-aab7-7140038ecee2"
      },
      "outputs": [
        {
          "output_type": "stream",
          "name": "stdout",
          "text": [
            "Median obtained using np.median method is 29.5\n",
            "Median obtained using the cal_median1 method is 29.5\n"
          ]
        }
      ],
      "source": [
        "#Ans 3\n",
        "\n",
        "# Using the method given in question\n",
        "arr = np.random.randint(0,100,10)\n",
        "print(f'Median obtained using np.median method is {np.median(arr)}')\n",
        "\n",
        "def cal_median1(arr):\n",
        "    n = len(arr)\n",
        "    for i in range(len(arr)//2):\n",
        "        maxelement = np.max(arr)\n",
        "        arr = np.delete(arr,arr.argmax())\n",
        "    if(n % 2 == 0):\n",
        "        return (np.max(arr) + maxelement)/2\n",
        "    else:\n",
        "        return np.mex()\n",
        "        \n",
        "print(f'Median obtained using the cal_median1 method is {cal_median1(arr)}')"
      ]
    },
    {
      "cell_type": "code",
      "execution_count": 22,
      "id": "cebc29c3",
      "metadata": {
        "colab": {
          "base_uri": "https://localhost:8080/"
        },
        "id": "cebc29c3",
        "outputId": "5f07511e-0610-496c-86db-60c2b25b110a"
      },
      "outputs": [
        {
          "output_type": "stream",
          "name": "stdout",
          "text": [
            "Median obtained using np.median method is 65.0\n",
            "Median obtained using the cal_median2 method is 65\n"
          ]
        }
      ],
      "source": [
        "## by using some better method\n",
        "arr1 = np.random.randint(0,100,9)\n",
        "print(f'Median obtained using np.median method is {np.median(arr1)}')\n",
        "\n",
        "def cal_median2(arr1):\n",
        "    sorted_arr = np.sort(arr1)\n",
        "    n = arr1.shape[0]\n",
        "    if n % 2:\n",
        "        return sorted_arr[(n)//2]\n",
        "    else:\n",
        "        return (sorted_arr[(n-1)//2] + sorted_arr[(n)//2])/2\n",
        "\n",
        "print(f'Median obtained using the cal_median2 method is {cal_median2(arr1)}')"
      ]
    },
    {
      "cell_type": "code",
      "execution_count": 23,
      "id": "0636f711",
      "metadata": {
        "id": "0636f711"
      },
      "outputs": [],
      "source": [
        "np_median = []\n",
        "cal_median1_median = []\n",
        "cal_median2_median = []\n",
        "\n",
        "for n in range(10,1000,10): \n",
        "    n1 = []\n",
        "    n2 = []\n",
        "    n3 = []\n",
        "    for i in range(100):\n",
        "        arr = np.random.randint(0, 1000, (n))\n",
        "        t1 = time.time()\n",
        "        cal_median1(arr)\n",
        "        t2 = time.time()\n",
        "        n1.append(t2-t1)\n",
        "\n",
        "        t1 = time.time()\n",
        "        cal_median2(arr)\n",
        "        t2 = time.time()\n",
        "        n2.append(t2-t1)\n",
        "\n",
        "        t1 = time.time()\n",
        "        np.median(arr)\n",
        "        t2 = time.time()\n",
        "        n3.append(t2-t1)\n",
        "    cal_median1_median.append(n1)\n",
        "    cal_median2_median.append(n2)\n",
        "    np_median.append(n3)\n",
        "    \n",
        "meanlists1 = np.mean(cal_median1_median, axis = 1)\n",
        "meanlists2 = np.mean(cal_median2_median, axis = 1)\n",
        "meanlists3 = np.mean(np_median, axis = 1)\n",
        "\n",
        "stdlists1 = np.std(cal_median1_median, axis = 1)\n",
        "stdlists2 = np.std(cal_median2_median, axis = 1)\n",
        "stdlists3 = np.std(np_median, axis = 1)"
      ]
    },
    {
      "cell_type": "code",
      "execution_count": 24,
      "id": "a1203461",
      "metadata": {
        "colab": {
          "base_uri": "https://localhost:8080/",
          "height": 295
        },
        "id": "a1203461",
        "outputId": "07a519e8-6743-4e76-be39-081a4b1c101c"
      },
      "outputs": [
        {
          "output_type": "display_data",
          "data": {
            "text/plain": [
              "<Figure size 432x288 with 1 Axes>"
            ],
            "image/png": "[encoded data removed]"
          },
          "metadata": {
            "needs_background": "light"
          }
        }
      ],
      "source": [
        "# Comparing the three methods using plot\n",
        "\n",
        "plt.title(\"T(n)\")\n",
        "plt.xlabel(\"n\")\n",
        "plt.ylabel(r\"$T(log(mean \\pm std))$\")\n",
        "plt.yscale('log')\n",
        "plt.plot(np.arange(10, 1000, 10), meanlists1 + stdlists1,  \"g\", linewidth=0.5)\n",
        "plt.plot(np.arange(10, 1000, 10), meanlists1, \"g\", linewidth=1.5, label=\"cal_median1 method\")\n",
        "\n",
        "plt.plot(np.arange(10, 1000, 10), meanlists1 - stdlists1, \"g\", linewidth=0.5)\n",
        "plt.plot(np.arange(10, 1000, 10), meanlists2 + stdlists2,  \"r\", linewidth=0.5)\n",
        "plt.plot(np.arange(10, 1000, 10), meanlists2, \"r\", linewidth=1.5, label=\"cal_median2 method\")\n",
        "\n",
        "plt.plot(np.arange(10, 1000, 10), meanlists2 - stdlists2, \"r\", linewidth=0.5)\n",
        "plt.plot(np.arange(10, 1000, 10), meanlists3 + stdlists3,  \"b\", linewidth=0.5)\n",
        "plt.plot(np.arange(10, 1000, 10), meanlists3,\"b\", linewidth=1.5, label=\"np.median method\")\n",
        "\n",
        "plt.plot(np.arange(10, 1000, 10), meanlists3 - stdlists3, \"b\", linewidth=0.5)\n",
        "plt.legend()\n",
        "plt.show()"
      ]
    },
    {
      "cell_type": "markdown",
      "id": "fb0e11f0",
      "metadata": {
        "id": "fb0e11f0"
      },
      "source": [
        "#Ans 4\n",
        "\n",
        "$f(x,y)=x^2{y}+y^{3}\\sin(x)\\\\\n",
        "Gradient=\\nabla{f}.{d}r\\\\\n",
        "=\\frac{\\partial{f}}{\\partial{x}}\\hat{i}+\\frac{\\partial{f}}{{\\partial}{y}}\\hat{j}\\\\\n",
        "=(2xy+y^3\\cos(x))\\hat{i}+(x^2+3y^2\\sin(x))\\hat{j}\n",
        "$"
      ]
    },
    {
      "cell_type": "code",
      "execution_count": 25,
      "id": "f908252a",
      "metadata": {
        "colab": {
          "base_uri": "https://localhost:8080/"
        },
        "id": "f908252a",
        "outputId": "c2b4b98a-47b8-4c72-ae00-d1bdb4bf333f"
      },
      "outputs": [
        {
          "output_type": "stream",
          "name": "stdout",
          "text": [
            " gradient from jax 0.03579722344875336 | manually 0.03579722344875336\n",
            " gradient from jax 0.20343703031539917 | manually 0.20343703031539917\n",
            " gradient from jax 0.10053624212741852 | manually 0.10053624212741852\n",
            " gradient from jax 0.02078242227435112 | manually 0.02078242413699627\n",
            " gradient from jax 2.241919755935669 | manually 2.241919755935669\n",
            " gradient from jax 2.966503143310547 | manually 2.966503143310547\n"
          ]
        }
      ],
      "source": [
        "#Ans 5\n",
        "import numpy as np\n",
        "from jax import grad\n",
        "import jax.numpy as jnp\n",
        "def f(x,y):\n",
        "    return ((x**2)*y)+((y**3)*(jnp.sin(x)))\n",
        "def f1x(x,y):\n",
        "    return 2*x*y+(y**3)*(jnp.cos(x))\n",
        "def f1y(x,y):\n",
        "    return x**2+jnp.sin(x)*3*(y**2)    \n",
        "dif_x = grad(f,0)\n",
        "dif_y=grad(f,1)\n",
        "for i in range(3):\n",
        "  x=random.random()\n",
        "  y=random.random()\n",
        "  print(f\" gradient from jax {dif_x(x,y)} | manually {f1x(x,y)}\")  \n",
        "  print(f\" gradient from jax {dif_y(x,y)} | manually {f1y(x,y)}\")\n"
      ]
    },
    {
      "cell_type": "code",
      "execution_count": 26,
      "id": "6352738e",
      "metadata": {
        "colab": {
          "base_uri": "https://localhost:8080/",
          "height": 39
        },
        "id": "6352738e",
        "outputId": "628deadd-5902-4e97-f4e9-dbe045ac4cca"
      },
      "outputs": [
        {
          "output_type": "execute_result",
          "data": {
            "text/plain": [
              "2*x*y + y**3*cos(x)"
            ],
            "text/latex": "$\\displaystyle 2 x y + y^{3} \\cos{\\left(x \\right)}$"
          },
          "metadata": {},
          "execution_count": 26
        }
      ],
      "source": [
        "#Ans 6\n",
        "from sympy import symbols\n",
        "import sympy\n",
        "x, y = symbols('x y')\n",
        "f = x*x*y + y**3 * sympy.sin(x)\n",
        "f.diff(x) #wrt x-axis"
      ]
    },
    {
      "cell_type": "code",
      "execution_count": 27,
      "id": "c8e8e539",
      "metadata": {
        "colab": {
          "base_uri": "https://localhost:8080/",
          "height": 39
        },
        "id": "c8e8e539",
        "outputId": "77120957-9135-4729-922e-ceba94fedd8a"
      },
      "outputs": [
        {
          "output_type": "execute_result",
          "data": {
            "text/plain": [
              "x**2 + 3*y**2*sin(x)"
            ],
            "text/latex": "$\\displaystyle x^{2} + 3 y^{2} \\sin{\\left(x \\right)}$"
          },
          "metadata": {},
          "execution_count": 27
        }
      ],
      "source": [
        "f.diff(y) #wrt y-axis"
      ]
    },
    {
      "cell_type": "code",
      "execution_count": 28,
      "id": "ee2127e3",
      "metadata": {
        "id": "ee2127e3"
      },
      "outputs": [],
      "source": [
        "#Ans 7\n",
        "\n",
        "student_database = {\n",
        "    2022 : {\n",
        "        \"Branch 1\" : {\n",
        "            1 : {\n",
        "            \"Roll Number\" : 1, \n",
        "            \"Name\" : \"N\", \n",
        "            \"Marks\" : {\n",
        "                \"Maths\" : 100, \n",
        "                \"English\": 70\n",
        "                }\n",
        "            }\n",
        "        },\n",
        "        \"Branch 2\" : {}\n",
        "    },\n",
        "    2023 : {\n",
        "        \"Branch 1\" : {},\n",
        "        \"Branch 2\" : {},\n",
        "    },\n",
        "    2024 : {\n",
        "        \"Branch 1\" : {},\n",
        "        \"Branch 2\" : {},\n",
        "    },\n",
        "    2025 : {\n",
        "        \"Branch 1\" : {},\n",
        "        \"Branch 2\" : {},\n",
        "    },\n",
        "}"
      ]
    },
    {
      "cell_type": "code",
      "execution_count": 29,
      "id": "d066c664",
      "metadata": {
        "colab": {
          "base_uri": "https://localhost:8080/"
        },
        "id": "d066c664",
        "outputId": "78ddd2fb-90a8-4028-fa10-ae9c34147f1c"
      },
      "outputs": [
        {
          "output_type": "stream",
          "name": "stdout",
          "text": [
            "First year object's attributes after input\n",
            "Year: 2022\n",
            "Branches are as follows Branch 1\n",
            "Students are as follows:\n",
            "Name: Zeeshan Roll number: 242 Subjects Marks: {'Math': 90, 'Eng': 80}\n",
            "\n",
            "Second year object's attributes after input\n",
            "Year: 2023\n",
            "Branches are as follows Branch 1\n",
            "Students are as follows:\n",
            "Name: Wizard Roll number: 123 Subjects Marks: {'Math': 60}\n",
            "\n",
            "Second year object's attributes after more input\n",
            "Year: 2023\n",
            "Branches are as follows Branch 1\n",
            "Students are as follows:\n",
            "Name: Wizard Roll number: 123 Subjects Marks: {'Math': 60}\n",
            "Name: Golem Roll number: 100 Subjects Marks: {'Eng': 70}\n",
            "Branch 2\n",
            "Students are as follows:\n",
            "Name: Zeeshan Roll number: 242 Subjects Marks: {'Math': 90, 'Eng': 80}\n"
          ]
        }
      ],
      "source": [
        "class student:\n",
        "    def __init__(self, name, roll_number, marks_list):\n",
        "        self.name=name\n",
        "        self.roll_number=roll_number\n",
        "        self.marks_list=marks_list\n",
        "    def print_attributes(self):\n",
        "        print(\"Name:\",self.name, \"Roll number:\", self.roll_number, \"Subjects Marks:\", self.marks_list)\n",
        "\n",
        "class branch:\n",
        "    def __init__(self, branchname):  \n",
        "        self.student_list=[]\n",
        "        self.branchname=branchname\n",
        "    def input_attributes(self, student):\n",
        "        self.student=student\n",
        "        temp_l=[]\n",
        "        for i in self.student_list:\n",
        "            temp_l.append(i.name)\n",
        "        if student.name not in temp_l:\n",
        "            self.student_list.append(self.student) #appending student objects to list\n",
        "    def print_attributes(self):\n",
        "        print(self.branchname)\n",
        "        print(\"Students are as follows:\")\n",
        "        for i in self.student_list:\n",
        "            i.print_attributes()\n",
        "            \n",
        "class year:\n",
        "    def __init__(self, yeardate):\n",
        "        self.branch_list=[]\n",
        "        self.yeardate=yeardate\n",
        "    def input_attributes(self, branch):\n",
        "        self.branch=branch\n",
        "        temp_l=[]\n",
        "        for i in self.branch_list:\n",
        "            temp_l.append(i.branchname)\n",
        "        if branch.branchname not in temp_l:\n",
        "            self.branch_list.append(self.branch) #appending branch objects to list\n",
        "        else:\n",
        "            for i in self.branch_list:\n",
        "                if branch.branchname == i.branchname:\n",
        "                    i.student_list.append(branch.student)\n",
        "    def print_attributes(self):\n",
        "        print(\"Year:\",self.yeardate)\n",
        "        print(\"Branches are as follows\", end=' ')\n",
        "        for i in self.branch_list:\n",
        "            i.print_attributes()\n",
        "\n",
        "years_list=[year(2022),year(2023)] # list of year objects\n",
        "            \n",
        "print(\"First year object's attributes after input\")\n",
        "student_1=student(\"Zeeshan\",242,{\"Math\":90,\"Eng\":80})  \n",
        "branch_1=branch(\"Branch 1\")\n",
        "branch_1.input_attributes(student_1)\n",
        "branch_2=branch(\"Branch 2\")\n",
        "branch_2.input_attributes(student_1)\n",
        "years_list[0].input_attributes(branch_1)\n",
        "years_list[0].print_attributes()\n",
        "print()\n",
        "\n",
        "print(\"Second year object's attributes after input\")\n",
        "student_3=student(\"Wizard\",123,{\"Math\":60})\n",
        "student_2=student(\"Golem\",100,{\"Eng\":70})\n",
        "branch_3=branch(\"Branch 1\")\n",
        "branch_3.input_attributes(student_3)\n",
        "\n",
        "branch_4=branch(\"Branch 1\")\n",
        "branch_4.input_attributes(student_2)\n",
        "branch_5=branch(\"Branch 2\")\n",
        "branch_5.input_attributes(student_1)\n",
        "\n",
        "years_list[1].input_attributes(branch_3)\n",
        "years_list[1].print_attributes()\n",
        "print()\n",
        "\n",
        "print(\"Second year object's attributes after more input\")\n",
        "years_list[1].input_attributes(branch_4)\n",
        "years_list[1].input_attributes(branch_5)\n",
        "years_list[1].print_attributes()"
      ]
    },
    {
      "cell_type": "code",
      "execution_count": 30,
      "id": "3c65cee6",
      "metadata": {
        "colab": {
          "base_uri": "https://localhost:8080/",
          "height": 1000
        },
        "id": "3c65cee6",
        "outputId": "0823e2cb-dd18-4776-f214-81c18dba3312"
      },
      "outputs": [
        {
          "output_type": "display_data",
          "data": {
            "text/plain": [
              "<Figure size 432x288 with 1 Axes>"
            ],
            "image/png": "[encoded data removed]"
          },
          "metadata": {
            "needs_background": "light"
          }
        },
        {
          "output_type": "display_data",
          "data": {
            "text/plain": [
              "<Figure size 432x288 with 1 Axes>"
            ],
            "image/png": "[encoded data removed]"
          },
          "metadata": {
            "needs_background": "light"
          }
        },
        {
          "output_type": "display_data",
          "data": {
            "text/plain": [
              "<Figure size 432x288 with 1 Axes>"
            ],
            "image/png": "[encoded data removed]"
          },
          "metadata": {
            "needs_background": "light"
          }
        },
        {
          "output_type": "display_data",
          "data": {
            "text/plain": [
              "<Figure size 432x288 with 1 Axes>"
            ],
            "image/png": "[encoded data removed]"
          },
          "metadata": {
            "needs_background": "light"
          }
        },
        {
          "output_type": "display_data",
          "data": {
            "text/plain": [
              "<Figure size 432x288 with 1 Axes>"
            ],
            "image/png": "[encoded data removed]"
          },
          "metadata": {
            "needs_background": "light"
          }
        },
        {
          "output_type": "display_data",
          "data": {
            "text/plain": [
              "<Figure size 432x288 with 1 Axes>"
            ],
            "image/png": "[encoded data removed]"
          },
          "metadata": {
            "needs_background": "light"
          }
        },
        {
          "output_type": "display_data",
          "data": {
            "text/plain": [
              "<Figure size 432x288 with 1 Axes>"
            ],
            "image/png": "[encoded data removed]"
          },
          "metadata": {
            "needs_background": "light"
          }
        }
      ],
      "source": [
        "#Ans 9\n",
        "x = np.arange(0.5,100.5,0.5)\n",
        "\n",
        "plt.title(\"$y=x$\")\n",
        "plt.plot(x,x)\n",
        "plt.show()\n",
        "\n",
        "y = x**2\n",
        "plt.plot(x, y)\n",
        "plt.title(\"$y=x^2$\")\n",
        "plt.show()\n",
        "\n",
        "y = (x**3)/100\n",
        "plt.plot(x, y)\n",
        "plt.title(\"$y=x^3/100$\")\n",
        "plt.show()\n",
        "\n",
        "plt.plot(x, np.sin(x))\n",
        "plt.title(\"$y=sin(x)$\")\n",
        "plt.show()\n",
        "\n",
        "plt.plot(x, np.sin(x)/x)\n",
        "plt.title(\"$y=sin(x)/x$\")\n",
        "plt.show()\n",
        "\n",
        "plt.plot(x, np.log(x))\n",
        "plt.title(\"$y=log(x)$\")\n",
        "plt.show()\n",
        "\n",
        "plt.plot(x, np.exp(x))\n",
        "plt.title(\"$y=e^x$\")\n",
        "plt.show()\n"
      ]
    },
    {
      "cell_type": "code",
      "execution_count": 31,
      "id": "abaea055",
      "metadata": {
        "colab": {
          "base_uri": "https://localhost:8080/"
        },
        "id": "abaea055",
        "outputId": "224bec6f-51d2-435f-dd1f-3499e22cf6e9"
      },
      "outputs": [
        {
          "output_type": "stream",
          "name": "stdout",
          "text": [
            "[[1.82457403 1.18928538 1.53304812 1.85399744 1.71897371]\n",
            " [1.11493039 1.21824377 1.77504461 1.53870787 1.10960974]\n",
            " [1.44561916 1.18216145 1.26183283 1.81398468 1.81942456]\n",
            " [1.1298061  1.08359135 1.75009919 1.76035533 1.77595817]\n",
            " [1.86427967 1.94259231 1.61874264 1.87918093 1.9616866 ]\n",
            " [1.18451541 1.7178352  1.60203838 1.47048672 1.3128342 ]\n",
            " [1.25893895 1.56271649 1.33674171 1.76651275 1.66091627]\n",
            " [1.78299882 1.87321728 1.33173869 1.74140803 1.18431829]\n",
            " [1.76572833 1.20243732 1.73767754 1.88065268 1.16151173]\n",
            " [1.38735889 1.39640919 1.05970321 1.25642683 1.91107672]\n",
            " [1.57474098 1.07170604 1.23357535 1.22002547 1.94804619]\n",
            " [1.03321803 1.34577856 1.06315379 1.18225057 1.97499671]\n",
            " [1.38700063 1.69294751 1.20193395 1.73686312 1.28363666]\n",
            " [1.41584095 1.56603777 1.69526989 1.19769412 1.28251035]\n",
            " [1.37587128 1.8525785  1.26622264 1.69798432 1.90282573]\n",
            " [1.08676346 1.34879949 1.3643988  1.12900963 1.25972514]\n",
            " [1.63770582 1.50526656 1.75484449 1.95760832 1.2932808 ]\n",
            " [1.66005649 1.86629165 1.20650377 1.2055511  1.82048879]\n",
            " [1.93753927 1.23548808 1.30498641 1.301464   1.4707146 ]\n",
            " [1.62512251 1.6779751  1.46365211 1.77943648 1.23840481]]\n",
            "Data Frame\n",
            "           a         b         c         d         e\n",
            "0   1.824574  1.189285  1.533048  1.853997  1.718974\n",
            "1   1.114930  1.218244  1.775045  1.538708  1.109610\n",
            "2   1.445619  1.182161  1.261833  1.813985  1.819425\n",
            "3   1.129806  1.083591  1.750099  1.760355  1.775958\n",
            "4   1.864280  1.942592  1.618743  1.879181  1.961687\n",
            "5   1.184515  1.717835  1.602038  1.470487  1.312834\n",
            "6   1.258939  1.562716  1.336742  1.766513  1.660916\n",
            "7   1.782999  1.873217  1.331739  1.741408  1.184318\n",
            "8   1.765728  1.202437  1.737678  1.880653  1.161512\n",
            "9   1.387359  1.396409  1.059703  1.256427  1.911077\n",
            "10  1.574741  1.071706  1.233575  1.220025  1.948046\n",
            "11  1.033218  1.345779  1.063154  1.182251  1.974997\n",
            "12  1.387001  1.692948  1.201934  1.736863  1.283637\n",
            "13  1.415841  1.566038  1.695270  1.197694  1.282510\n",
            "14  1.375871  1.852578  1.266223  1.697984  1.902826\n",
            "15  1.086763  1.348799  1.364399  1.129010  1.259725\n",
            "16  1.637706  1.505267  1.754844  1.957608  1.293281\n",
            "17  1.660056  1.866292  1.206504  1.205551  1.820489\n",
            "18  1.937539  1.235488  1.304986  1.301464  1.470715\n",
            "19  1.625123  1.677975  1.463652  1.779436  1.238405\n",
            "\n",
            "Column containing maximum standard deviation is  e , its SD is 0.3107686178573378\n",
            "Row containing minimum mean is 15 , its mean is 1.2377393038805322\n",
            "\n",
            "\n",
            "Ans 11\n",
            "\n",
            "           a         b         c         d         e         f\n",
            "0   1.824574  1.189285  1.533048  1.853997  1.718974  8.119879\n",
            "1   1.114930  1.218244  1.775045  1.538708  1.109610  6.756536\n",
            "2   1.445619  1.182161  1.261833  1.813985  1.819425  7.523023\n",
            "3   1.129806  1.083591  1.750099  1.760355  1.775958  7.499810\n",
            "4   1.864280  1.942592  1.618743  1.879181  1.961687  9.266482\n",
            "5   1.184515  1.717835  1.602038  1.470487  1.312834  7.287710\n",
            "6   1.258939  1.562716  1.336742  1.766513  1.660916  7.585826\n",
            "7   1.782999  1.873217  1.331739  1.741408  1.184318  7.913681\n",
            "8   1.765728  1.202437  1.737678  1.880653  1.161512  7.748008\n",
            "9   1.387359  1.396409  1.059703  1.256427  1.911077  7.010975\n",
            "10  1.574741  1.071706  1.233575  1.220025  1.948046  7.048094\n",
            "11  1.033218  1.345779  1.063154  1.182251  1.974997  6.599398\n",
            "12  1.387001  1.692948  1.201934  1.736863  1.283637  7.302382\n",
            "13  1.415841  1.566038  1.695270  1.197694  1.282510  7.157353\n",
            "14  1.375871  1.852578  1.266223  1.697984  1.902826  8.095482\n",
            "15  1.086763  1.348799  1.364399  1.129010  1.259725  6.188697\n",
            "16  1.637706  1.505267  1.754844  1.957608  1.293281  8.148706\n",
            "17  1.660056  1.866292  1.206504  1.205551  1.820489  7.758892\n",
            "18  1.937539  1.235488  1.304986  1.301464  1.470715  7.250192\n",
            "19  1.625123  1.677975  1.463652  1.779436  1.238405  7.784591\n",
            "           a         b         c         d         e         f    g\n",
            "0   1.824574  1.189285  1.533048  1.853997  1.718974  8.119879  GT8\n",
            "1   1.114930  1.218244  1.775045  1.538708  1.109610  6.756536  LT8\n",
            "2   1.445619  1.182161  1.261833  1.813985  1.819425  7.523023  LT8\n",
            "3   1.129806  1.083591  1.750099  1.760355  1.775958  7.499810  LT8\n",
            "4   1.864280  1.942592  1.618743  1.879181  1.961687  9.266482  GT8\n",
            "5   1.184515  1.717835  1.602038  1.470487  1.312834  7.287710  LT8\n",
            "6   1.258939  1.562716  1.336742  1.766513  1.660916  7.585826  LT8\n",
            "7   1.782999  1.873217  1.331739  1.741408  1.184318  7.913681  LT8\n",
            "8   1.765728  1.202437  1.737678  1.880653  1.161512  7.748008  LT8\n",
            "9   1.387359  1.396409  1.059703  1.256427  1.911077  7.010975  LT8\n",
            "10  1.574741  1.071706  1.233575  1.220025  1.948046  7.048094  LT8\n",
            "11  1.033218  1.345779  1.063154  1.182251  1.974997  6.599398  LT8\n",
            "12  1.387001  1.692948  1.201934  1.736863  1.283637  7.302382  LT8\n",
            "13  1.415841  1.566038  1.695270  1.197694  1.282510  7.157353  LT8\n",
            "14  1.375871  1.852578  1.266223  1.697984  1.902826  8.095482  GT8\n",
            "15  1.086763  1.348799  1.364399  1.129010  1.259725  6.188697  LT8\n",
            "16  1.637706  1.505267  1.754844  1.957608  1.293281  8.148706  GT8\n",
            "17  1.660056  1.866292  1.206504  1.205551  1.820489  7.758892  LT8\n",
            "18  1.937539  1.235488  1.304986  1.301464  1.470715  7.250192  LT8\n",
            "19  1.625123  1.677975  1.463652  1.779436  1.238405  7.784591  LT8\n",
            "LT8: 16 GT8: 4\n",
            "lesser than 8 of column g [6.75653638 7.52302267 7.49981013 7.28770991 7.58582618 7.91368111\n",
            " 7.7480076  7.01097483 7.04809403 6.59939766 7.30238186 7.1573531\n",
            " 6.18869652 7.7588918  7.25019235 7.78459101]\n",
            "greater than 8 of column g [8.11987868 9.26648215 8.09548247 8.148706  ]\n",
            "Standard Deviation of LT8 is  0.45934728333559055 , Standard Deviation of GT8 is  0.496212041223839\n"
          ]
        }
      ],
      "source": [
        "#Ans 10\n",
        "mat=np.random.uniform(1,2,size=(20,5))\n",
        "print(mat)\n",
        "col_lb=np.array([\"a\",\"b\",\"c\",\"d\",\"e\"])\n",
        "t_d={}\n",
        "for i in range(col_lb.size):\n",
        "    t_d[col_lb[i]] = mat[:,i]\n",
        "\n",
        "final_dataframe=pd.DataFrame(t_d)\n",
        "print(\"Data Frame\",final_dataframe,sep=\"\\n\")\n",
        "\n",
        "std_dev_in_col = np.zeros(5)\n",
        "print()\n",
        "\n",
        "for i in range(final_dataframe.columns.size):\n",
        "    std_dev_in_col[i]=np.std(final_dataframe[final_dataframe.columns[i]])\n",
        "\n",
        "max_std_dev=np.max(std_dev_in_col)\n",
        "max_std_dev_index=np.where(std_dev_in_col==max_std_dev)\n",
        "print(\"Column containing maximum standard deviation is \", \n",
        "      final_dataframe.columns[max_std_dev_index[0]][0],\", its SD is\", max_std_dev)\n",
        "\n",
        "mean_in_row=np.zeros(20)\n",
        "\n",
        "for index,row in final_dataframe.iterrows():\n",
        "    mean_in_row[index]=np.mean(row)\n",
        "\n",
        "min_mean=np.min(mean_in_row)\n",
        "min_mean_index=np.where(mean_in_row==min_mean)\n",
        "print(\"Row containing minimum mean is\",min_mean_index[0][0],\", its mean is\",min_mean)\n",
        "\n",
        "\n",
        "\n",
        "print(\"\\n\\nAns 11\\n\")\n",
        "\n",
        "\n",
        "\n",
        "#Ans 11\n",
        "\n",
        "#column \"f\"\n",
        "col_f = np.zeros(20)\n",
        "for i,row in final_dataframe.iterrows():\n",
        "    col_f[i] = np.sum(row)\n",
        "final_dataframe['f'] = col_f\n",
        "print(final_dataframe)\n",
        "\n",
        "#column \"g\"\n",
        "col_g = []\n",
        "count_lt8=0\n",
        "for i in range(20):\n",
        "    if final_dataframe['f'][i] < 8:\n",
        "        col_g.append(\"LT8\")\n",
        "        count_lt8+=1\n",
        "    else:\n",
        "        col_g.append(\"GT8\")\n",
        "final_dataframe['g'] = col_g\n",
        "print(final_dataframe)\n",
        "\n",
        "print(\"LT8:\",count_lt8, \"GT8:\", 20-count_lt8)\n",
        "\n",
        "l_t = []\n",
        "g_t = []\n",
        "for i in range(final_dataframe['f'].size):\n",
        "    if(final_dataframe['f'][i] >= 8):\n",
        "        g_t.append(final_dataframe['f'][i])\n",
        "    else:\n",
        "        l_t.append(final_dataframe['f'][i])\n",
        "l_t_np = np.array(l_t)\n",
        "g_t_np = np.array(g_t)\n",
        "\n",
        "print(\"lesser than 8 of column g\", l_t_np)\n",
        "print(\"greater than 8 of column g\", g_t_np)\n",
        "print(\"Standard Deviation of LT8 is \", np.std(l_t_np), \", Standard Deviation of GT8 is \", np.std(g_t_np))"
      ]
    },
    {
      "cell_type": "code",
      "execution_count": 32,
      "id": "5e4bd2b5",
      "metadata": {
        "colab": {
          "base_uri": "https://localhost:8080/"
        },
        "id": "5e4bd2b5",
        "outputId": "78af9e36-e4dc-477e-b750-475a8f8409d3"
      },
      "outputs": [
        {
          "output_type": "stream",
          "name": "stdout",
          "text": [
            "x= [[3 4 2 4]\n",
            " [3 1 2 4]\n",
            " [4 4 4 1]] \n",
            "y= 4 \n",
            "x+y= [[7 8 6 8]\n",
            " [7 5 6 8]\n",
            " [8 8 8 5]] \n",
            "x==y: [[False  True False  True]\n",
            " [False False False  True]\n",
            " [ True  True  True False]]\n"
          ]
        }
      ],
      "source": [
        "#Ans 12\n",
        "'''Broadcasting refers refers to the phenomenon of numpy \"broadcasting\" the smaller array onto the larger array \n",
        "subject to certain conditions. Examples are as follows:'''\n",
        "\n",
        "'''Here, x is 2d array, while y is a random number. Upon various operations such as + and ==, y gets broadcasted\n",
        "over the entire x, and the resultant's dimension is same as x.   '''\n",
        "x=np.random.randint(1,5,(3,4))\n",
        "y=random.randrange(1,5)\n",
        "print(\"x=\",x,\"\\ny=\",y,\"\\nx+y=\",x+y,\"\\nx==y:\",x==y)"
      ]
    },
    {
      "cell_type": "code",
      "execution_count": 33,
      "id": "e9e264ca",
      "metadata": {
        "colab": {
          "base_uri": "https://localhost:8080/"
        },
        "id": "e9e264ca",
        "outputId": "003cdf3a-c153-4511-ae4a-326a228006a7"
      },
      "outputs": [
        {
          "output_type": "stream",
          "name": "stdout",
          "text": [
            "x= [[3 4 3 3]\n",
            " [3 4 3 4]\n",
            " [2 4 3 4]] \n",
            "y= [[2]\n",
            " [2]\n",
            " [4]] \n",
            "x+y= [[5 6 5 5]\n",
            " [5 6 5 6]\n",
            " [6 8 7 8]]\n",
            "\n",
            "\n",
            "x= [[[2 3 2 4]\n",
            "  [4 4 4 4]\n",
            "  [1 1 3 1]]\n",
            "\n",
            " [[3 4 3 4]\n",
            "  [1 2 4 1]\n",
            "  [3 4 1 2]]] \n",
            "y= [2 4 3 4] \n",
            "x+y= [[[4 7 5 8]\n",
            "  [6 8 7 8]\n",
            "  [3 5 6 5]]\n",
            "\n",
            " [[5 8 6 8]\n",
            "  [3 6 7 5]\n",
            "  [5 8 4 6]]]\n"
          ]
        }
      ],
      "source": [
        "'''Here, there are two arrays of different sizes. Upon operation between them, the smaller array repeats itself \n",
        "appropriately to match the larger array in dimension. Also, not every can be broadcasted to another array. There must\n",
        "be some common dimension, about which the repetition occurs.'''\n",
        "\n",
        "x=np.random.randint(1,5,(3,4))\n",
        "y=np.random.randint(1,5,(3,1))\n",
        "print(\"x=\",x,\"\\ny=\",y,\"\\nx+y=\",x+y) # y repeated itself in terms of columns as the no of rows were same as x\n",
        "\n",
        "x=np.random.randint(1,5,(2,3,4))\n",
        "y=np.random.randint(1,5,(4))\n",
        "print(\"\\n\\nx=\",x,\"\\ny=\",y,\"\\nx+y=\",x+y) # y first became a 3d array of shape (1,1,4) and then repeated itself in terms of \n",
        "                                        # the first 2 dimensions as the 3rd dimension were same as x"
      ]
    },
    {
      "cell_type": "code",
      "execution_count": 34,
      "id": "4ab49278",
      "metadata": {
        "colab": {
          "base_uri": "https://localhost:8080/"
        },
        "id": "4ab49278",
        "outputId": "dd7279b4-c8fc-4d29-d85e-19539a49d9fe"
      },
      "outputs": [
        {
          "output_type": "stream",
          "name": "stdout",
          "text": [
            "x= [[[1 3 4 3]\n",
            "  [3 4 3 4]\n",
            "  [2 4 4 1]]\n",
            "\n",
            " [[3 3 4 1]\n",
            "  [2 2 4 4]\n",
            "  [2 1 3 1]]]\n",
            "Argmin obtained from inbuilt function is 0\n",
            "Argmin obtained using userdefined function 0\n"
          ]
        }
      ],
      "source": [
        "#Ans 13\n",
        "\n",
        "x=np.random.randint(1,5,(2,3,4))\n",
        "print(\"x=\",x)\n",
        "print(\"Argmin obtained from inbuilt function is\",np.argmin(x))\n",
        "\n",
        "\n",
        "def cal_argmin(array_2d):\n",
        "    array_2d_flattened = array_2d.flatten()\n",
        "    min_el = np.min(array_2d_flattened)\n",
        "    index = np.where(array_2d_flattened == min_el)\n",
        "    first_time = index[0][0]\n",
        "    return first_time\n",
        "\n",
        "print(\"Argmin obtained using userdefined function\",cal_argmin(x))\n"
      ]
    },
    {
      "cell_type": "code",
      "execution_count": 34,
      "id": "168edbd1",
      "metadata": {
        "id": "168edbd1"
      },
      "outputs": [],
      "source": []
    }
  ],
  "metadata": {
    "kernelspec": {
      "display_name": "Python 3 (ipykernel)",
      "language": "python",
      "name": "python3"
    },
    "language_info": {
      "codemirror_mode": {
        "name": "ipython",
        "version": 3
      },
      "file_extension": ".py",
      "mimetype": "text/x-python",
      "name": "python",
      "nbconvert_exporter": "python",
      "pygments_lexer": "ipython3",
      "version": "3.9.0"
    },
    "colab": {
      "provenance": []
    }
  },
  "nbformat": 4,
  "nbformat_minor": 5
}